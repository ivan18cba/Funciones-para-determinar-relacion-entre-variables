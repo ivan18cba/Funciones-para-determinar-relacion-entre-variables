{
 "cells": [
  {
   "cell_type": "markdown",
   "id": "4c855a8a",
   "metadata": {},
   "source": [
    "# Funciones estadisticas para determinar la relacion entre columnas "
   ]
  },
  {
   "cell_type": "code",
   "execution_count": 1,
   "id": "3afb50cc",
   "metadata": {},
   "outputs": [],
   "source": [
    "import pandas as pd\n",
    "import numpy as np\n",
    "import scipy\n",
    "from scipy.stats import pearsonr\n",
    "from sklearn.feature_selection import mutual_info_regression"
   ]
  },
  {
   "cell_type": "markdown",
   "id": "52603d33",
   "metadata": {},
   "source": [
    "## Funcion para calcular Pearson"
   ]
  },
  {
   "cell_type": "code",
   "execution_count": 2,
   "id": "d02c37d0",
   "metadata": {},
   "outputs": [],
   "source": [
    "def Calcular_pearsonr(datos):\n",
    "    alfa=0.05\n",
    "\n",
    "    for columnas in datos.columns:\n",
    "        if columnas !='y':\n",
    "            r,p = pearsonr(datos[columnas], datos.y)\n",
    "            print('Calculamos pearsonr en columna y con columna:', columnas)\n",
    "            print(\"r:\", r)\n",
    "            print(\"p: \",p)\n",
    "            print(\"alfa: \", alfa)\n",
    "            if p<=alfa:\n",
    "                print(\"Como p < alfa existe relación lineal entre las variables (es posible rechazar la Hipótesis Nula)\")\n",
    "            else:\n",
    "                print(\"No es posible rechazar la Hipótesis Nula, por lo tanto asumiremos que no existe relación lineal entre las variables\")\n",
    "            print('-------------------------')\n",
    "            print('-------------------------')"
   ]
  },
  {
   "cell_type": "markdown",
   "id": "37209160",
   "metadata": {},
   "source": [
    "## Funcion para calcular Mutual Information"
   ]
  },
  {
   "cell_type": "code",
   "execution_count": 3,
   "id": "3206b7bc",
   "metadata": {},
   "outputs": [],
   "source": [
    "def Calcular_Mutual_info(datos):\n",
    "    for columnas in datos.columns:\n",
    "        if columnas != 'y':\n",
    "            X=np.array(datos[columnas]).reshape(-1, 1)  # por el formato necesario para que lo tome correctamente\n",
    "            MI =mutual_info_regression(X, datos['y'],discrete_features='auto', n_neighbors=3, copy=True, random_state=123)\n",
    "            print('Calculamos MI de columna y con columna:', columnas)\n",
    "            if MI > 0: \n",
    "                print(\"MI:\", MI, \"Existe relación entre las variables\" )\n",
    "            else:\n",
    "                print(\"MI: \", MI, \"NO existe relación entre las variables\" )   \n",
    "            print('-------------------------')\n",
    "            print('-------------------------')"
   ]
  },
  {
   "cell_type": "markdown",
   "id": "5e0a66e9",
   "metadata": {},
   "source": [
    "## Funcion para calcular Anova"
   ]
  },
  {
   "cell_type": "markdown",
   "id": "4c3f5417",
   "metadata": {},
   "source": [
    "### Nota: Recordar que para aplicar anova debe ademas cumplir con dos requisitos mas:"
   ]
  },
  {
   "cell_type": "markdown",
   "id": "321095d8",
   "metadata": {},
   "source": [
    "1- La variable target debe tener mas de 3 variables"
   ]
  },
  {
   "cell_type": "markdown",
   "id": "020e8e83",
   "metadata": {},
   "source": [
    "2- La columna debe tener un grafico gaussiano"
   ]
  },
  {
   "cell_type": "code",
   "execution_count": 4,
   "id": "9a160ef8",
   "metadata": {},
   "outputs": [],
   "source": [
    "def calcular_varianza_anova(dat_1, dat_2, dat_3):\n",
    "    dat_1_=np.var(dat_1)\n",
    "    dat_2_=np.var(dat_2)\n",
    "    dat_3_=np.var(dat_3)\n",
    "\n",
    "    max_var=np.max([dat_1_, dat_2_, dat_3_])\n",
    "    min_var=np.min([dat_1_, dat_2_, dat_3_])\n",
    "\n",
    "    ratio_var=max_var/min_var\n",
    "\n",
    "    doble=min_var*2\n",
    "    cuadruple=min_var*4\n",
    "\n",
    "\n",
    "    print('----Sepal_length-----')\n",
    "    print('varianza minima= ', min_var)\n",
    "    print('varianza maxima= ', max_var)\n",
    "    print('ratio_var_sepal_length= ', ratio_var)\n",
    "    print('-----------------')\n",
    "\n",
    "    if max_var > cuadruple:\n",
    "        print('Definitivamente no podemos aplicar anova ya que la mayor varianza es mas del cuadruple que la menor')\n",
    "    elif max_var <= doble:\n",
    "        print('Podemos aplicar anova debido a que la mayor varianza es menos que el doble que la menor')\n",
    "    else:\n",
    "        print('Podemos evaluar aplicar anova debido a que la mayor varianza es menos que el cuadruple de la menor')"
   ]
  },
  {
   "cell_type": "markdown",
   "id": "25fd1b9c",
   "metadata": {},
   "source": [
    "### Funcion para aplicar Chi 2"
   ]
  },
  {
   "cell_type": "code",
   "execution_count": 6,
   "id": "9c97428e",
   "metadata": {},
   "outputs": [],
   "source": [
    "def Chi2_aplicar(Datos, target):\n",
    "    for n in Datos.columns:\n",
    "        tabla = pd.crosstab(Datos[n], Datos.target)\n",
    "        chi2, p, libertad, conting = chi2_contingency(tabla)\n",
    "        print('Columna:', n)\n",
    "        print(\"chi cuadrado: \", chi2)\n",
    "        print(\"p:\", p*100)\n",
    "        print(\"grados de libertad: \", libertad)\n",
    "        print(\"tabla de contingencia esperada\")\n",
    "        print (conting)\n",
    "        print('------------------------------')\n",
    "        print('------------------------------')\n"
   ]
  },
  {
   "cell_type": "code",
   "execution_count": null,
   "id": "5a247641",
   "metadata": {},
   "outputs": [],
   "source": []
  }
 ],
 "metadata": {
  "kernelspec": {
   "display_name": "Python 3 (ipykernel)",
   "language": "python",
   "name": "python3"
  },
  "language_info": {
   "codemirror_mode": {
    "name": "ipython",
    "version": 3
   },
   "file_extension": ".py",
   "mimetype": "text/x-python",
   "name": "python",
   "nbconvert_exporter": "python",
   "pygments_lexer": "ipython3",
   "version": "3.9.7"
  }
 },
 "nbformat": 4,
 "nbformat_minor": 5
}
